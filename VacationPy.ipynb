{
 "cells": [
  {
   "cell_type": "code",
   "execution_count": 33,
   "metadata": {},
   "outputs": [],
   "source": [
    "#setup dependancies\n",
    "import pandas as pd\n",
    "import matplotlib.pyplot as plt\n",
    "import numpy as np\n",
    "import requests\n",
    "import gmaps\n",
    "import os\n",
    "\n",
    "from api_keys import gmap_key"
   ]
  },
  {
   "cell_type": "code",
   "execution_count": 34,
   "metadata": {},
   "outputs": [
    {
     "data": {
      "text/plain": [
       "<bound method NDFrame.head of                  City  Latitude  Longitude  Max Temperature  Humidity  \\\n",
       "0              Luanda   -8.8368    13.2343            84.20        74   \n",
       "1           Mahébourg  -20.4081    57.7000            82.69        65   \n",
       "2                 Itō   34.9667   139.0833            37.69        57   \n",
       "3           Namatanai   -3.6667   152.4333            80.04        81   \n",
       "4    Praia da Vitória   38.7333   -27.0667            59.76        82   \n",
       "..                ...       ...        ...              ...       ...   \n",
       "574             Zabid   14.1951    43.3152            86.85        42   \n",
       "575              Atar   20.5169   -13.0499            77.70        12   \n",
       "576      Taitung City   22.7583   121.1444            57.47        82   \n",
       "577         Tucumcari   35.1717  -103.7250            31.95       100   \n",
       "578          Meulaboh    4.1363    96.1285            78.06        87   \n",
       "\n",
       "     Cloudiness  Wind Speed Nation        Date  \n",
       "0            40        4.61     AO  1674557488  \n",
       "1            75        9.22     MU  1674557699  \n",
       "2            46        3.00     JP  1674557699  \n",
       "3            81        6.38     PG  1674557699  \n",
       "4            40       17.94     PT  1674557700  \n",
       "..          ...         ...    ...         ...  \n",
       "574          14       14.74     YE  1674557777  \n",
       "575           2        6.69     MR  1674557777  \n",
       "576          75        5.75     TW  1674557777  \n",
       "577         100        3.44     US  1674557777  \n",
       "578          83       11.61     ID  1674557777  \n",
       "\n",
       "[579 rows x 9 columns]>"
      ]
     },
     "execution_count": 34,
     "metadata": {},
     "output_type": "execute_result"
    }
   ],
   "source": [
    "df = pd.read_csv(\"./data/cities.csv\")\n",
    "df.head"
   ]
  },
  {
   "cell_type": "code",
   "execution_count": 35,
   "metadata": {},
   "outputs": [
    {
     "data": {
      "application/vnd.jupyter.widget-view+json": {
       "model_id": "00d74d29e2894fb78cc31ae3e7787be4",
       "version_major": 2,
       "version_minor": 0
      },
      "text/plain": [
       "Figure(layout=FigureLayout(height='420px'))"
      ]
     },
     "metadata": {},
     "output_type": "display_data"
    }
   ],
   "source": [
    "#configure gmaps\n",
    "gmaps.configure(api_key = gmap_key)\n",
    "locations = df[[\"Latitude\", \"Longitude\"]]\n",
    "weight = df[\"Humidity\"]\n",
    "\n",
    "#heatmap layer\n",
    "fig = gmaps.figure(center = (0, 0), zoom_level = 1)\n",
    "heatmap_layer = gmaps.heatmap_layer(locations, weights = weight)\n",
    "fig.add_layer(heatmap_layer)\n",
    "fig"
   ]
  },
  {
   "cell_type": "code",
   "execution_count": 36,
   "metadata": {},
   "outputs": [
    {
     "data": {
      "text/html": [
       "<div>\n",
       "<style scoped>\n",
       "    .dataframe tbody tr th:only-of-type {\n",
       "        vertical-align: middle;\n",
       "    }\n",
       "\n",
       "    .dataframe tbody tr th {\n",
       "        vertical-align: top;\n",
       "    }\n",
       "\n",
       "    .dataframe thead th {\n",
       "        text-align: right;\n",
       "    }\n",
       "</style>\n",
       "<table border=\"1\" class=\"dataframe\">\n",
       "  <thead>\n",
       "    <tr style=\"text-align: right;\">\n",
       "      <th></th>\n",
       "      <th>City</th>\n",
       "      <th>Latitude</th>\n",
       "      <th>Longitude</th>\n",
       "      <th>Max Temperature</th>\n",
       "      <th>Humidity</th>\n",
       "      <th>Cloudiness</th>\n",
       "      <th>Wind Speed</th>\n",
       "      <th>Nation</th>\n",
       "      <th>Date</th>\n",
       "    </tr>\n",
       "  </thead>\n",
       "  <tbody>\n",
       "    <tr>\n",
       "      <th>20</th>\n",
       "      <td>Taoudenni</td>\n",
       "      <td>22.6783</td>\n",
       "      <td>-3.9836</td>\n",
       "      <td>72.86</td>\n",
       "      <td>15</td>\n",
       "      <td>0</td>\n",
       "      <td>6.96</td>\n",
       "      <td>ML</td>\n",
       "      <td>1674557702</td>\n",
       "    </tr>\n",
       "    <tr>\n",
       "      <th>116</th>\n",
       "      <td>Adrar</td>\n",
       "      <td>20.5022</td>\n",
       "      <td>-10.0711</td>\n",
       "      <td>73.02</td>\n",
       "      <td>12</td>\n",
       "      <td>0</td>\n",
       "      <td>9.08</td>\n",
       "      <td>MR</td>\n",
       "      <td>1674557714</td>\n",
       "    </tr>\n",
       "    <tr>\n",
       "      <th>133</th>\n",
       "      <td>Tessalit</td>\n",
       "      <td>20.1986</td>\n",
       "      <td>1.0114</td>\n",
       "      <td>79.38</td>\n",
       "      <td>10</td>\n",
       "      <td>0</td>\n",
       "      <td>7.20</td>\n",
       "      <td>ML</td>\n",
       "      <td>1674557716</td>\n",
       "    </tr>\n",
       "  </tbody>\n",
       "</table>\n",
       "</div>"
      ],
      "text/plain": [
       "          City  Latitude  Longitude  Max Temperature  Humidity  Cloudiness  \\\n",
       "20   Taoudenni   22.6783    -3.9836            72.86        15           0   \n",
       "116      Adrar   20.5022   -10.0711            73.02        12           0   \n",
       "133   Tessalit   20.1986     1.0114            79.38        10           0   \n",
       "\n",
       "     Wind Speed Nation        Date  \n",
       "20         6.96     ML  1674557702  \n",
       "116        9.08     MR  1674557714  \n",
       "133        7.20     ML  1674557716  "
      ]
     },
     "execution_count": 36,
     "metadata": {},
     "output_type": "execute_result"
    }
   ],
   "source": [
    "#ideal conditions filter\n",
    "temp_optimal = (df[\"Max Temperature\"] <= 80) & (df[\"Max Temperature\"] >= 70)\n",
    "wind_optimal = (df[\"Wind Speed\"] <= 10)\n",
    "cloud_optimal = (df[\"Cloudiness\"] <= 0)\n",
    "humid_optimal = (df[\"Humidity\"] <= 30)\n",
    "weather_optimal = df.loc[temp_optimal & wind_optimal & cloud_optimal & humid_optimal]\n",
    "\n",
    "weather_optimal = weather_optimal.dropna()\n",
    "\n",
    "weather_optimal"
   ]
  },
  {
   "cell_type": "code",
   "execution_count": 41,
   "metadata": {},
   "outputs": [
    {
     "name": "stdout",
     "output_type": "stream",
     "text": [
      "<class 'pandas.core.frame.DataFrame'>\n",
      "Int64Index: 3 entries, 20 to 133\n",
      "Data columns (total 10 columns):\n",
      " #   Column           Non-Null Count  Dtype  \n",
      "---  ------           --------------  -----  \n",
      " 0   City             3 non-null      object \n",
      " 1   Latitude         3 non-null      float64\n",
      " 2   Longitude        3 non-null      float64\n",
      " 3   Max Temperature  3 non-null      float64\n",
      " 4   Humidity         3 non-null      int64  \n",
      " 5   Cloudiness       3 non-null      int64  \n",
      " 6   Wind Speed       3 non-null      float64\n",
      " 7   Nation           3 non-null      object \n",
      " 8   Date             3 non-null      int64  \n",
      " 9   Hotel Name       3 non-null      object \n",
      "dtypes: float64(4), int64(3), object(3)\n",
      "memory usage: 372.0+ bytes\n"
     ]
    },
    {
     "data": {
      "text/html": [
       "<div>\n",
       "<style scoped>\n",
       "    .dataframe tbody tr th:only-of-type {\n",
       "        vertical-align: middle;\n",
       "    }\n",
       "\n",
       "    .dataframe tbody tr th {\n",
       "        vertical-align: top;\n",
       "    }\n",
       "\n",
       "    .dataframe thead th {\n",
       "        text-align: right;\n",
       "    }\n",
       "</style>\n",
       "<table border=\"1\" class=\"dataframe\">\n",
       "  <thead>\n",
       "    <tr style=\"text-align: right;\">\n",
       "      <th></th>\n",
       "      <th>City</th>\n",
       "      <th>Latitude</th>\n",
       "      <th>Longitude</th>\n",
       "      <th>Max Temperature</th>\n",
       "      <th>Humidity</th>\n",
       "      <th>Cloudiness</th>\n",
       "      <th>Wind Speed</th>\n",
       "      <th>Nation</th>\n",
       "      <th>Date</th>\n",
       "      <th>Hotel Name</th>\n",
       "    </tr>\n",
       "  </thead>\n",
       "  <tbody>\n",
       "    <tr>\n",
       "      <th>20</th>\n",
       "      <td>Taoudenni</td>\n",
       "      <td>22.6783</td>\n",
       "      <td>-3.9836</td>\n",
       "      <td>72.86</td>\n",
       "      <td>15</td>\n",
       "      <td>0</td>\n",
       "      <td>6.96</td>\n",
       "      <td>ML</td>\n",
       "      <td>1674557702</td>\n",
       "      <td></td>\n",
       "    </tr>\n",
       "    <tr>\n",
       "      <th>116</th>\n",
       "      <td>Adrar</td>\n",
       "      <td>20.5022</td>\n",
       "      <td>-10.0711</td>\n",
       "      <td>73.02</td>\n",
       "      <td>12</td>\n",
       "      <td>0</td>\n",
       "      <td>9.08</td>\n",
       "      <td>MR</td>\n",
       "      <td>1674557714</td>\n",
       "      <td></td>\n",
       "    </tr>\n",
       "    <tr>\n",
       "      <th>133</th>\n",
       "      <td>Tessalit</td>\n",
       "      <td>20.1986</td>\n",
       "      <td>1.0114</td>\n",
       "      <td>79.38</td>\n",
       "      <td>10</td>\n",
       "      <td>0</td>\n",
       "      <td>7.20</td>\n",
       "      <td>ML</td>\n",
       "      <td>1674557716</td>\n",
       "      <td></td>\n",
       "    </tr>\n",
       "  </tbody>\n",
       "</table>\n",
       "</div>"
      ],
      "text/plain": [
       "          City  Latitude  Longitude  Max Temperature  Humidity  Cloudiness  \\\n",
       "20   Taoudenni   22.6783    -3.9836            72.86        15           0   \n",
       "116      Adrar   20.5022   -10.0711            73.02        12           0   \n",
       "133   Tessalit   20.1986     1.0114            79.38        10           0   \n",
       "\n",
       "     Wind Speed Nation        Date Hotel Name  \n",
       "20         6.96     ML  1674557702             \n",
       "116        9.08     MR  1674557714             \n",
       "133        7.20     ML  1674557716             "
      ]
     },
     "execution_count": 41,
     "metadata": {},
     "output_type": "execute_result"
    }
   ],
   "source": [
    "# store into variable name hotel_df\n",
    "hotel_df = weather_optimal\n",
    "\n",
    "hotel_name = []\n"
   ]
  },
  {
   "cell_type": "code",
   "execution_count": 53,
   "metadata": {},
   "outputs": [
    {
     "name": "stdout",
     "output_type": "stream",
     "text": [
      "{'html_attributions': [], 'results': [], 'status': 'ZERO_RESULTS'}\n",
      "{'html_attributions': [], 'results': [], 'status': 'ZERO_RESULTS'}\n",
      "{'html_attributions': [], 'results': [], 'status': 'ZERO_RESULTS'}\n"
     ]
    }
   ],
   "source": [
    "for index, row in hotel_df.iterrows():\n",
    "    lat = row[\"Latitude\"]\n",
    "    lng = row[\"Longitude\"]\n",
    "    city = row[\"City\"]\n",
    "    coords = (f\"{lat}, {lng}\")\n",
    "\n",
    "    parameters = {\n",
    "    \"key\": gmap_key,\n",
    "    # Set parameters to search for hotels with 5000 meters\n",
    "    \"radius\": 5000,\n",
    "    \"location\": coords,\n",
    "    \"type\": \"lodging\"\n",
    "    }\n",
    "\n",
    "    url = \"https://maps.googleapis.com/maps/api/place/nearbysearch/json\"\n",
    "    response_json = requests.get(url, params = parameters).json()\n",
    "\n",
    "    print(response_json)\n",
    "    \n",
    "    #regardless of radius, \"ZERO_RESULTS\" Will appear. Can not find a fix. Therefore, I can not add the hotel markers to the heatmap.\n",
    "    \n",
    "\n"
   ]
  }
 ],
 "metadata": {
  "kernelspec": {
   "display_name": "Python 3 (ipykernel)",
   "language": "python",
   "name": "python3"
  },
  "language_info": {
   "codemirror_mode": {
    "name": "ipython",
    "version": 3
   },
   "file_extension": ".py",
   "mimetype": "text/x-python",
   "name": "python",
   "nbconvert_exporter": "python",
   "pygments_lexer": "ipython3",
   "version": "3.9.12"
  },
  "vscode": {
   "interpreter": {
    "hash": "c79f8f21da264bd1d028db25c6791996e084443b727ae68f20d92653727834ef"
   }
  }
 },
 "nbformat": 4,
 "nbformat_minor": 2
}
